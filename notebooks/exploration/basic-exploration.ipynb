{
 "cells": [
  {
   "cell_type": "markdown",
   "metadata": {},
   "source": [
    "# Install Required Libraries\n",
    "Use pip to install the necessary libraries, such as matplotlib and pandas."
   ]
  },
  {
   "cell_type": "code",
   "execution_count": null,
   "metadata": {},
   "outputs": [],
   "source": [
    "# Install Required Libraries\n",
    "!pip install matplotlib pandas"
   ]
  },
  {
   "cell_type": "markdown",
   "metadata": {},
   "source": [
    "# Import Required Libraries\n",
    "Import the necessary libraries, including pandas and matplotlib."
   ]
  },
  {
   "cell_type": "code",
   "execution_count": null,
   "metadata": {},
   "outputs": [],
   "source": [
    "# Import Required Libraries\n",
    "\n",
    "import pandas as pd  # Importing pandas for data manipulation and analysis\n",
    "import matplotlib.pyplot as plt  # Importing matplotlib for data visualization"
   ]
  },
  {
   "cell_type": "markdown",
   "metadata": {},
   "source": [
    "# Load Data Files\n",
    "Load all data files from the data/processed/disney_lorcana directory into pandas DataFrames."
   ]
  },
  {
   "cell_type": "code",
   "execution_count": null,
   "metadata": {},
   "outputs": [],
   "source": [
    "import os  # Importing os for directory and file operations\n",
    "\n",
    "# Define the directory containing the data files\n",
    "data_directory = 'data/processed/disney_lorcana'\n",
    "\n",
    "# List all files in the data directory\n",
    "data_files = os.listdir(data_directory)\n",
    "\n",
    "# Initialize an empty dictionary to store DataFrames\n",
    "data_frames = {}\n",
    "\n",
    "# Load each file into a pandas DataFrame and store it in the dictionary\n",
    "for file in data_files:\n",
    "    file_path = os.path.join(data_directory, file)\n",
    "    if file.endswith('.csv'):  # Check if the file is a CSV file\n",
    "        df_name = file.split('.')[0]  # Use the file name (without extension) as the DataFrame name\n",
    "        data_frames[df_name] = pd.read_csv(file_path)  # Read the CSV file into a DataFrame\n",
    "\n",
    "# Display the names of the loaded DataFrames\n",
    "data_frames.keys()"
   ]
  },
  {
   "cell_type": "markdown",
   "metadata": {},
   "source": [
    "# Display Basic Information\n",
    "Display the first few rows and basic information (e.g., column names, data types) for each DataFrame."
   ]
  },
  {
   "cell_type": "code",
   "execution_count": null,
   "metadata": {},
   "outputs": [],
   "source": [
    "# Display Basic Information\n",
    "\n",
    "# Iterate through each DataFrame in the dictionary\n",
    "for name, df in data_frames.items():\n",
    "    print(f\"DataFrame: {name}\")  # Print the name of the DataFrame\n",
    "    display(df.head())  # Display the first few rows of the DataFrame\n",
    "    display(df.info())  # Display basic information about the DataFrame\n",
    "    print(\"\\n\")  # Print a newline for better readability between DataFrames"
   ]
  },
  {
   "cell_type": "markdown",
   "metadata": {},
   "source": [
    "# Summary Statistics\n",
    "Generate summary statistics for each DataFrame, including mean, median, and standard deviation."
   ]
  },
  {
   "cell_type": "code",
   "execution_count": null,
   "metadata": {},
   "outputs": [],
   "source": [
    "# Summary Statistics\n",
    "\n",
    "# Iterate through each DataFrame in the dictionary to generate summary statistics\n",
    "for name, df in data_frames.items():\n",
    "    print(f\"Summary Statistics for DataFrame: {name}\")  # Print the name of the DataFrame\n",
    "    \n",
    "    # Calculate and display mean, median, and standard deviation for each numeric column\n",
    "    summary_stats = df.describe().T  # Transpose for better readability\n",
    "    summary_stats['median'] = df.median()  # Add median to the summary statistics\n",
    "    \n",
    "    display(summary_stats)  # Display the summary statistics\n",
    "    print(\"\\n\")  # Print a newline for better readability between DataFrames"
   ]
  },
  {
   "cell_type": "markdown",
   "metadata": {},
   "source": [
    "# Visualize Data\n",
    "Create basic visualizations (e.g., histograms, box plots) to explore the distribution of data in each DataFrame."
   ]
  },
  {
   "cell_type": "code",
   "execution_count": null,
   "metadata": {},
   "outputs": [],
   "source": [
    "# Visualize Data\n",
    "\n",
    "# Iterate through each DataFrame in the dictionary to create visualizations\n",
    "for name, df in data_frames.items():\n",
    "    print(f\"Visualizations for DataFrame: {name}\")  # Print the name of the DataFrame\n",
    "    \n",
    "    # Create histograms for each numeric column\n",
    "    df.hist(figsize=(10, 10))\n",
    "    plt.suptitle(f'Histograms for {name}', fontsize=16)\n",
    "    plt.show()\n",
    "    \n",
    "    # Create box plots for each numeric column\n",
    "    df.plot(kind='box', subplots=True, layout=(3, 3), figsize=(15, 10), title=f'Box Plots for {name}')\n",
    "    plt.suptitle(f'Box Plots for {name}', fontsize=16)\n",
    "    plt.show()\n",
    "    \n",
    "    print(\"\\n\")  # Print a newline for better readability between DataFrames"
   ]
  }
 ],
 "metadata": {
  "language_info": {
   "name": "python"
  }
 },
 "nbformat": 4,
 "nbformat_minor": 2
}
